{
 "cells": [
  {
   "cell_type": "code",
   "execution_count": null,
   "id": "8fd5d15c",
   "metadata": {
    "scrolled": true
   },
   "outputs": [],
   "source": [
    "!pip install mysql-connector-python"
   ]
  },
  {
   "cell_type": "code",
   "execution_count": 1,
   "id": "e5e7e76e",
   "metadata": {},
   "outputs": [],
   "source": [
    "from tkinter import *\n",
    "import tkinter.messagebox as tkMessageBox\n",
    "import mysql.connector\n",
    "from mysql.connector import Error"
   ]
  },
  {
   "cell_type": "code",
   "execution_count": 2,
   "id": "23bf3f9d",
   "metadata": {},
   "outputs": [
    {
     "data": {
      "text/plain": [
       "''"
      ]
     },
     "execution_count": 2,
     "metadata": {},
     "output_type": "execute_result"
    }
   ],
   "source": [
    "root = Tk()\n",
    "root.title(\"IdeasNetwork - Basic Registration Form\")\n",
    " \n",
    "width = 640\n",
    "height = 480\n",
    "screen_width = root.winfo_screenwidth()\n",
    "screen_height = root.winfo_screenheight()\n",
    "x = (screen_width/2) - (width/2)\n",
    "y = (screen_height/2) - (height/2)\n",
    "root.geometry(\"%dx%d+%d+%d\" % (width, height, x, y))\n",
    "root.resizable(0, 0)"
   ]
  },
  {
   "cell_type": "code",
   "execution_count": 3,
   "id": "fe5cd3e9",
   "metadata": {},
   "outputs": [],
   "source": [
    "#=======================================VARIABLES=====================================\n",
    "USER = StringVar()\n",
    "PASS = StringVar()\n",
    "NAME = StringVar()\n",
    "ADDRESS = StringVar()\n"
   ]
  },
  {
   "cell_type": "code",
   "execution_count": 4,
   "id": "9bf84dd8",
   "metadata": {},
   "outputs": [],
   "source": [
    "#=======================================METHODS=======================================\n",
    "def Database():\n",
    "    global conn, cursor\n",
    "    conn = mysql.connector.connect(host='localhost',\n",
    "                                         database='registerdb',\n",
    "                                         user='root',\n",
    "                                         password='')\n",
    "    cursor = conn.cursor()\n",
    "def Exit():\n",
    "    result = tkMessageBox.askquestion('System', 'Are you sure you want to exit?', icon=\"warning\")\n",
    "    if result == 'yes':\n",
    "        root.destroy()\n",
    "        exit()\n",
    "\n",
    "\n",
    "def Register():\n",
    "    Database()\n",
    "    if USER.get == \"\" or PASS.get() == \"\" or NAME.get() == \"\" or ADDRESS.get == \"\":\n",
    "        lbl_result.config(text=\"Please complete the required field!\", fg=\"orange\")\n",
    "    else:\n",
    "        cursor.execute(\"SELECT * FROM `user` WHERE `user` = %s\", [USER.get()])\n",
    "        if cursor.fetchone() is not None:\n",
    "            lbl_result.config(text=\"Username is already taken\", fg=\"red\")\n",
    "        else:\n",
    "            cursor.execute(\"INSERT INTO `user` (user, pass, name, address) VALUES(%s, %s, %s, %s)\", (str(USER.get()), str(PASS.get()), str(NAME.get()), str(ADDRESS.get())))\n",
    "            conn.commit()\n",
    "            USER.set(\"\")\n",
    "            PASS.set(\"\")\n",
    "            NAME.set(\"\")\n",
    "            ADDRESS.set(\"\")\n",
    "            lbl_result.config(text=\"Successfully Created!\", fg=\"green\")\n",
    "        cursor.close()\n",
    "        conn.close()\n"
   ]
  },
  {
   "cell_type": "code",
   "execution_count": 5,
   "id": "a98d935d",
   "metadata": {},
   "outputs": [],
   "source": [
    "#=====================================FRAMES====================================\n",
    "TitleFrame = Frame(root, height=100, width=640, bd=1, relief=SOLID)\n",
    "TitleFrame.pack(side=TOP)\n",
    "RegisterFrame = Frame(root)\n",
    "RegisterFrame.pack(side=TOP, pady=20)"
   ]
  },
  {
   "cell_type": "code",
   "execution_count": 6,
   "id": "acf7af1d",
   "metadata": {},
   "outputs": [],
   "source": [
    "#=====================================LABEL WIDGETS=============================\n",
    "lbl_title = Label(TitleFrame, text=\"IdeasNetwork - Basic Registration Form\", font=('arial', 18), bd=1, width=640)\n",
    "lbl_title.pack()\n",
    "lbl_username = Label(RegisterFrame, text=\"Username:\", font=('arial', 18), bd=18)\n",
    "lbl_username.grid(row=1)\n",
    "lbl_password = Label(RegisterFrame, text=\"Password:\", font=('arial', 18), bd=18)\n",
    "lbl_password.grid(row=2)\n",
    "lbl_firstname = Label(RegisterFrame, text=\"Name:\", font=('arial', 18), bd=18)\n",
    "lbl_firstname.grid(row=3)\n",
    "lbl_lastname = Label(RegisterFrame, text=\"Surname:\", font=('arial', 18), bd=18)\n",
    "lbl_lastname.grid(row=4)\n",
    "lbl_result = Label(RegisterFrame, text=\"\", font=('arial', 18))\n",
    "lbl_result.grid(row=5, columnspan=2)\n",
    "\n",
    "\n"
   ]
  },
  {
   "cell_type": "code",
   "execution_count": 7,
   "id": "3a09aaff",
   "metadata": {},
   "outputs": [],
   "source": [
    "#=======================================ENTRY WIDGETS===========================\n",
    "user = Entry(RegisterFrame, font=('arial', 20), textvariable=USER, width=15)\n",
    "user.grid(row=1, column=1)\n",
    "pass1 = Entry(RegisterFrame, font=('arial', 20), textvariable=PASS, width=15, show=\"*\")\n",
    "pass1.grid(row=2, column=1)\n",
    "name = Entry(RegisterFrame, font=('arial', 20), textvariable=NAME, width=15)\n",
    "name.grid(row=3, column=1)\n",
    "address = Entry(RegisterFrame, font=('arial', 20), textvariable=ADDRESS, width=15)\n",
    "address.grid(row=4, column=1)\n"
   ]
  },
  {
   "cell_type": "code",
   "execution_count": 8,
   "id": "c1f24881",
   "metadata": {},
   "outputs": [],
   "source": [
    "#========================================BUTTON WIDGETS=========================\n",
    "btn_register=Button(RegisterFrame, font=('arial', 20), text=\"Register\", command=Register)\n",
    "btn_register.grid(row=6, columnspan=2)\n"
   ]
  },
  {
   "cell_type": "code",
   "execution_count": 9,
   "id": "aaa9857e",
   "metadata": {},
   "outputs": [],
   "source": [
    "#========================================MENUBAR WIDGETS==================================\n",
    "menubar = Menu(root)\n",
    "filemenu = Menu(menubar, tearoff=0)\n",
    "filemenu.add_command(label=\"Exit\", command=Exit)\n",
    "menubar.add_cascade(label=\"File\", menu=filemenu)\n",
    "root.config(menu=menubar)\n"
   ]
  },
  {
   "cell_type": "code",
   "execution_count": 10,
   "id": "2af30499",
   "metadata": {},
   "outputs": [
    {
     "name": "stderr",
     "output_type": "stream",
     "text": [
      "Exception in Tkinter callback\n",
      "Traceback (most recent call last):\n",
      "  File \"C:\\Users\\ndivh\\anaconda3\\envs\\STK 353\\lib\\site-packages\\mysql\\connector\\connection_cext.py\", line 246, in _open_connection\n",
      "    self._cmysql.connect(**cnx_kwargs)\n",
      "_mysql_connector.MySQLInterfaceError: Can't connect to MySQL server on 'localhost:3306' (10061)\n",
      "\n",
      "During handling of the above exception, another exception occurred:\n",
      "\n",
      "Traceback (most recent call last):\n",
      "  File \"C:\\Users\\ndivh\\anaconda3\\envs\\STK 353\\lib\\tkinter\\__init__.py\", line 1892, in __call__\n",
      "    return self.func(*args)\n",
      "  File \"<ipython-input-4-1cef787b8767>\", line 17, in Register\n",
      "    Database()\n",
      "  File \"<ipython-input-4-1cef787b8767>\", line 4, in Database\n",
      "    conn = mysql.connector.connect(host='localhost',\n",
      "  File \"C:\\Users\\ndivh\\anaconda3\\envs\\STK 353\\lib\\site-packages\\mysql\\connector\\__init__.py\", line 272, in connect\n",
      "    return CMySQLConnection(*args, **kwargs)\n",
      "  File \"C:\\Users\\ndivh\\anaconda3\\envs\\STK 353\\lib\\site-packages\\mysql\\connector\\connection_cext.py\", line 94, in __init__\n",
      "    self.connect(**kwargs)\n",
      "  File \"C:\\Users\\ndivh\\anaconda3\\envs\\STK 353\\lib\\site-packages\\mysql\\connector\\abstracts.py\", line 1052, in connect\n",
      "    self._open_connection()\n",
      "  File \"C:\\Users\\ndivh\\anaconda3\\envs\\STK 353\\lib\\site-packages\\mysql\\connector\\connection_cext.py\", line 251, in _open_connection\n",
      "    raise errors.get_mysql_exception(msg=exc.msg, errno=exc.errno,\n",
      "mysql.connector.errors.DatabaseError: 2003 (HY000): Can't connect to MySQL server on 'localhost:3306' (10061)\n",
      "Exception in Tkinter callback\n",
      "Traceback (most recent call last):\n",
      "  File \"C:\\Users\\ndivh\\anaconda3\\envs\\STK 353\\lib\\site-packages\\mysql\\connector\\connection_cext.py\", line 246, in _open_connection\n",
      "    self._cmysql.connect(**cnx_kwargs)\n",
      "_mysql_connector.MySQLInterfaceError: Can't connect to MySQL server on 'localhost:3306' (10061)\n",
      "\n",
      "During handling of the above exception, another exception occurred:\n",
      "\n",
      "Traceback (most recent call last):\n",
      "  File \"C:\\Users\\ndivh\\anaconda3\\envs\\STK 353\\lib\\tkinter\\__init__.py\", line 1892, in __call__\n",
      "    return self.func(*args)\n",
      "  File \"<ipython-input-4-1cef787b8767>\", line 17, in Register\n",
      "    Database()\n",
      "  File \"<ipython-input-4-1cef787b8767>\", line 4, in Database\n",
      "    conn = mysql.connector.connect(host='localhost',\n",
      "  File \"C:\\Users\\ndivh\\anaconda3\\envs\\STK 353\\lib\\site-packages\\mysql\\connector\\__init__.py\", line 272, in connect\n",
      "    return CMySQLConnection(*args, **kwargs)\n",
      "  File \"C:\\Users\\ndivh\\anaconda3\\envs\\STK 353\\lib\\site-packages\\mysql\\connector\\connection_cext.py\", line 94, in __init__\n",
      "    self.connect(**kwargs)\n",
      "  File \"C:\\Users\\ndivh\\anaconda3\\envs\\STK 353\\lib\\site-packages\\mysql\\connector\\abstracts.py\", line 1052, in connect\n",
      "    self._open_connection()\n",
      "  File \"C:\\Users\\ndivh\\anaconda3\\envs\\STK 353\\lib\\site-packages\\mysql\\connector\\connection_cext.py\", line 251, in _open_connection\n",
      "    raise errors.get_mysql_exception(msg=exc.msg, errno=exc.errno,\n",
      "mysql.connector.errors.DatabaseError: 2003 (HY000): Can't connect to MySQL server on 'localhost:3306' (10061)\n"
     ]
    }
   ],
   "source": [
    "#========================================INITIALIZATION===================================\n",
    "if __name__ == '__main__':\n",
    "    root.mainloop()"
   ]
  },
  {
   "cell_type": "code",
   "execution_count": null,
   "id": "dd8985ce",
   "metadata": {},
   "outputs": [],
   "source": []
  },
  {
   "cell_type": "code",
   "execution_count": null,
   "id": "c9993c8f",
   "metadata": {},
   "outputs": [],
   "source": []
  }
 ],
 "metadata": {
  "kernelspec": {
   "display_name": "Python 3",
   "language": "python",
   "name": "python3"
  },
  "language_info": {
   "codemirror_mode": {
    "name": "ipython",
    "version": 3
   },
   "file_extension": ".py",
   "mimetype": "text/x-python",
   "name": "python",
   "nbconvert_exporter": "python",
   "pygments_lexer": "ipython3",
   "version": "3.8.11"
  }
 },
 "nbformat": 4,
 "nbformat_minor": 5
}
