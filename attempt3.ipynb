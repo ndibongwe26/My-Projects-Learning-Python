{
 "cells": [
  {
   "cell_type": "code",
   "execution_count": 5,
   "id": "c3e7dea2",
   "metadata": {},
   "outputs": [
    {
     "name": "stdout",
     "output_type": "stream",
     "text": [
      "Collecting pywebio\n",
      "  Downloading pywebio-1.6.1.tar.gz (469 kB)\n",
      "Requirement already satisfied: tornado>=5.0 in c:\\users\\ndivh\\anaconda3\\envs\\stk 353\\lib\\site-packages (from pywebio) (6.1)\n",
      "Collecting user-agents\n",
      "  Downloading user_agents-2.2.0-py3-none-any.whl (9.6 kB)\n",
      "Collecting ua-parser>=0.10.0\n",
      "  Downloading ua_parser-0.15.0-py2.py3-none-any.whl (37 kB)\n",
      "Building wheels for collected packages: pywebio\n",
      "  Building wheel for pywebio (setup.py): started\n",
      "  Building wheel for pywebio (setup.py): finished with status 'done'\n",
      "  Created wheel for pywebio: filename=pywebio-1.6.1-py3-none-any.whl size=480173 sha256=683e88a35cf2dddfd0cafb221f5af1e6a715d6191e1776499565d938f212e7ee\n",
      "  Stored in directory: c:\\users\\ndivh\\appdata\\local\\pip\\cache\\wheels\\ac\\09\\a8\\015177e43938b9226336f79dbf84ba8b5cba705297170fdd0d\n",
      "Successfully built pywebio\n",
      "Installing collected packages: ua-parser, user-agents, pywebio\n",
      "Successfully installed pywebio-1.6.1 ua-parser-0.15.0 user-agents-2.2.0\n"
     ]
    }
   ],
   "source": [
    "!pip install pywebio"
   ]
  },
  {
   "cell_type": "code",
   "execution_count": 6,
   "id": "7a88f4cb",
   "metadata": {
    "scrolled": true
   },
   "outputs": [],
   "source": [
    "from pywebio.input import *\n",
    "from pywebio.output import *\n",
    "from pywebio.session import *\n",
    "import re"
   ]
  },
  {
   "cell_type": "code",
   "execution_count": 7,
   "id": "ebd97e03",
   "metadata": {},
   "outputs": [
    {
     "ename": "SyntaxError",
     "evalue": "invalid syntax (<ipython-input-7-10a46335bbf7>, line 38)",
     "output_type": "error",
     "traceback": [
      "\u001b[1;36m  File \u001b[1;32m\"<ipython-input-7-10a46335bbf7>\"\u001b[1;36m, line \u001b[1;32m38\u001b[0m\n\u001b[1;33m    if not (Pattern.match(str(data['phone'])))\u001b[0m\n\u001b[1;37m                                              ^\u001b[0m\n\u001b[1;31mSyntaxError\u001b[0m\u001b[1;31m:\u001b[0m invalid syntax\n"
     ]
    }
   ],
   "source": [
    "# Checks\n",
    "\n",
    "# For checking Email, whether Valid or not.\n",
    "regex = '^(\\w|\\.|\\_|\\-)+[@](\\w|\\_|\\-|\\.)+[.]\\w{2,3}$'\n",
    "\n",
    "# For checking Phone Number, whether Valid or\n",
    "# not.\n",
    "Pattern = re.compile(\"(0/91)?[6-9][0-9]{9}\")\n",
    "\n",
    "# For Checking URL, whether valid or not\n",
    "regex_1 = (\"((http|https)://)(www.)?\" +\n",
    "\t\t\"[a-zA-Z0-9@:%._\\\\+~#?&//=]\" +\n",
    "\t\t\"{2,256}\\\\.[a-z]\" +\n",
    "\t\t\"{2,6}\\\\b([-a-zA-Z0-9@:%\" +\n",
    "\t\t\"._\\\\+~#?&//=]*)\")\n",
    "Pattern_1 = re.compile(regex_1)\n",
    "\n",
    "\n",
    "def check_form(data):\n",
    "\t\n",
    "\t# for checking Name\n",
    "\tif data['name'].isdigit():\n",
    "\t\treturn ('name', 'Invalid name!')\n",
    "\t\t\n",
    "\t# for checking UserName\n",
    "\tif data['username'].isdigit():\n",
    "\t\treturn ('username', 'Invalid username!')\n",
    "\n",
    "\t# for checking Age\n",
    "\tif data['age'] <= 0:\n",
    "\t\treturn ('age', 'Invalid age!')\n",
    "\t\t\n",
    "\t# for checking Email\n",
    "\tif not (re.search(regex, data['email'])):\n",
    "\t\treturn ('email', 'Invalid email!')\n",
    "\t\n",
    "\t# for checking Phone Number\n",
    "\tif not (Pattern.match(str(data['phone'])))\n",
    "\tor len(str(data['phone'])) != 10:\n",
    "\t\treturn ('phone', 'Invalid phone!')\n",
    "\t\n",
    "\t# for checking Website URL\n",
    "\tif not re.search(Pattern_1, data['website']):\n",
    "\t\treturn ('website', 'Invalid URL!')\n",
    "\t\t\n",
    "\t# for matching Passwords\n",
    "\tif data['pass'] != data['passes']:\n",
    "\t\treturn ('passes', \"Please make sure your passwords match\")\n",
    "\n"
   ]
  },
  {
   "cell_type": "code",
   "execution_count": 8,
   "id": "a6c0f2b7",
   "metadata": {},
   "outputs": [
    {
     "ename": "NameError",
     "evalue": "name 'check_form' is not defined",
     "output_type": "error",
     "traceback": [
      "\u001b[1;31m---------------------------------------------------------------------------\u001b[0m",
      "\u001b[1;31mNameError\u001b[0m                                 Traceback (most recent call last)",
      "\u001b[1;32m<ipython-input-8-536fcc50cf39>\u001b[0m in \u001b[0;36m<module>\u001b[1;34m\u001b[0m\n\u001b[0;32m     29\u001b[0m \t\trequired=True, PlaceHolder=\"www.XYZ.com\")\n\u001b[0;32m     30\u001b[0m \u001b[1;33m\u001b[0m\u001b[0m\n\u001b[1;32m---> 31\u001b[1;33m ], validate=check_form, cancelable=True)\n\u001b[0m\u001b[0;32m     32\u001b[0m \u001b[1;33m\u001b[0m\u001b[0m\n\u001b[0;32m     33\u001b[0m \u001b[1;31m# Create a radio button\u001b[0m\u001b[1;33m\u001b[0m\u001b[1;33m\u001b[0m\u001b[1;33m\u001b[0m\u001b[0m\n",
      "\u001b[1;31mNameError\u001b[0m: name 'check_form' is not defined"
     ]
    }
   ],
   "source": [
    "# Taking input from the user\n",
    "data = input_group(\"Fill out the form:\", [\n",
    "\tinput('Username', name='username', type=TEXT,\n",
    "\t\trequired=True, PlaceHolder=\"@username\"),\n",
    "\t\n",
    "\tinput('Password', name='pass', type=PASSWORD,\n",
    "\t\trequired=True, PlaceHolder=\"Password\"),\n",
    "\t\n",
    "\tinput('Confirm Password', name='passes', type=PASSWORD,\n",
    "\t\trequired=True, PlaceHolder=\"Confirm Password\"),\n",
    "\t\n",
    "\tinput('Name', name='name', type=TEXT, required=True,\n",
    "\t\tPlaceHolder=\"name\"),\n",
    "\t\n",
    "\tinput('Phone', name='phone', type=NUMBER,\n",
    "\t\trequired=True, PlaceHolder=\"12345\"),\n",
    "\t\n",
    "\tinput('Email', name='email', type=TEXT,\n",
    "\t\trequired=True, PlaceHolder=\"user@gmail.com\"),\n",
    "\t\n",
    "\tinput('Age', name='age', type=NUMBER, required=True,\n",
    "\t\tPlaceHolder=\"age\"),\n",
    "\t\n",
    "\tinput('Portfolio website', name='website', type=TEXT,\n",
    "\t\trequired=True, PlaceHolder=\"www.XYZ.com\")\n",
    "\t\n",
    "], validate=check_form, cancelable=True)\n",
    "\n",
    "# Create a radio button\n",
    "gender = radio(\"Gender\", options=['Male', 'Female'], required=True)\n",
    "\n",
    "# Create a skills markdown\n",
    "skills = select(\"Tech Stack\", options=[\n",
    "'C Programming', 'Python', 'Web Development', 'Android Development'],\n",
    "\t\t\t\trequired=True)\n",
    "\n",
    "# Create a textarea\n",
    "text = textarea(\"Comments/Questions\", rows=3,placeholder=\"Write something...\", required=True)\n",
    "\n",
    "# Create a checkbox\n",
    "agree = checkbox(\"Agreement\", options=[\n",
    "\t'I agree to terms and conditions'], required=True)\n",
    "\n",
    "# Display output using popup\n",
    "popup(\"Your Details\",\n",
    "\tf\"Username: @{data['username']}\\nName: {data['name']}\\\n",
    "\t\\nPhone: {str(data['phone'])}\\nEmail: {data['email']}\\\n",
    "\t\\nAge: {str(data['age'])}\\nWebsite: {data['website']}\\\n",
    "\t\\nGender: {gender}\\nSkill: {skills}\\nComments: {text}\",\n",
    "\tclosable=True)\n"
   ]
  },
  {
   "cell_type": "code",
   "execution_count": null,
   "id": "1b03a144",
   "metadata": {},
   "outputs": [],
   "source": []
  }
 ],
 "metadata": {
  "kernelspec": {
   "display_name": "Python 3",
   "language": "python",
   "name": "python3"
  },
  "language_info": {
   "codemirror_mode": {
    "name": "ipython",
    "version": 3
   },
   "file_extension": ".py",
   "mimetype": "text/x-python",
   "name": "python",
   "nbconvert_exporter": "python",
   "pygments_lexer": "ipython3",
   "version": "3.8.11"
  }
 },
 "nbformat": 4,
 "nbformat_minor": 5
}
