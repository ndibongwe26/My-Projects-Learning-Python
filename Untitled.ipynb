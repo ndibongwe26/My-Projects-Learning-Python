{
 "cells": [
  {
   "cell_type": "code",
   "execution_count": 1,
   "id": "dd501fb2",
   "metadata": {},
   "outputs": [
    {
     "name": "stdout",
     "output_type": "stream",
     "text": [
      "Requirement already satisfied: wxpython in c:\\users\\ndivh\\anaconda3\\envs\\stk 353\\lib\\site-packages (4.1.1)\n",
      "Requirement already satisfied: numpy in c:\\users\\ndivh\\appdata\\roaming\\python\\python38\\site-packages (from wxpython) (1.21.2)\n",
      "Requirement already satisfied: pillow in c:\\users\\ndivh\\appdata\\roaming\\python\\python38\\site-packages (from wxpython) (8.3.1)\n",
      "Requirement already satisfied: six in c:\\users\\ndivh\\anaconda3\\envs\\stk 353\\lib\\site-packages (from wxpython) (1.16.0)\n"
     ]
    }
   ],
   "source": [
    "!pip install wxpython"
   ]
  },
  {
   "cell_type": "code",
   "execution_count": 2,
   "id": "a5a2b629",
   "metadata": {},
   "outputs": [
    {
     "data": {
      "text/plain": [
       "0"
      ]
     },
     "execution_count": 2,
     "metadata": {},
     "output_type": "execute_result"
    }
   ],
   "source": [
    "import wx\n",
    "\n",
    "app = wx.App()\n",
    "frame = wx.Frame(parent=None, title=\"Let's Get Started With Your Idea !\")\n",
    "frame.Show()\n",
    "app.MainLoop()"
   ]
  },
  {
   "cell_type": "code",
   "execution_count": null,
   "id": "3f330f28",
   "metadata": {},
   "outputs": [],
   "source": [
    "#Re-write code as a class\n",
    "class MyFrame(wx.Frame):    \n",
    "    def __init__(self):\n",
    "        super().__init__(parent=None, title=\"Let's Get Started With Your Idea !\")\n",
    "        self.Show()\n",
    "\n",
    "if __name__ == '__main__':\n",
    "    app = wx.App()\n",
    "    frame = MyFrame()\n",
    "    app.MainLoop()"
   ]
  },
  {
   "cell_type": "code",
   "execution_count": null,
   "id": "bb9f515e",
   "metadata": {},
   "outputs": [],
   "source": []
  },
  {
   "cell_type": "code",
   "execution_count": null,
   "id": "be83d959",
   "metadata": {},
   "outputs": [],
   "source": []
  }
 ],
 "metadata": {
  "kernelspec": {
   "display_name": "Python 3",
   "language": "python",
   "name": "python3"
  },
  "language_info": {
   "codemirror_mode": {
    "name": "ipython",
    "version": 3
   },
   "file_extension": ".py",
   "mimetype": "text/x-python",
   "name": "python",
   "nbconvert_exporter": "python",
   "pygments_lexer": "ipython3",
   "version": "3.8.11"
  }
 },
 "nbformat": 4,
 "nbformat_minor": 5
}
